{
 "cells": [
  {
   "cell_type": "code",
   "execution_count": null,
   "id": "80233daf-26c3-4577-abfc-11588558bda4",
   "metadata": {},
   "outputs": [],
   "source": [
    "'''Q1. Create one variable containing following type of data:\n",
    "(i) string\n",
    "(ii) list\n",
    "(iii) float\n",
    "(iv) tuple '''"
   ]
  },
  {
   "cell_type": "code",
   "execution_count": 1,
   "id": "fa295fe3-893e-4ca2-9012-0dd2e048202c",
   "metadata": {},
   "outputs": [],
   "source": [
    "name = \"Saugat\" # string type"
   ]
  },
  {
   "cell_type": "code",
   "execution_count": 2,
   "id": "12a2d2bb-afab-4b7b-b82b-824b2ed96c7e",
   "metadata": {},
   "outputs": [],
   "source": [
    "list = [1,2,3,4,5] # list type"
   ]
  },
  {
   "cell_type": "code",
   "execution_count": 3,
   "id": "1449ec58-d225-4b82-b1bc-f2fea754f272",
   "metadata": {},
   "outputs": [],
   "source": [
    "float = 3.99 #float type"
   ]
  },
  {
   "cell_type": "code",
   "execution_count": 6,
   "id": "9690bb42-12ad-4dce-a4c7-97312c590a60",
   "metadata": {},
   "outputs": [],
   "source": [
    "tuple = (9,8,7,6) #tuple"
   ]
  },
  {
   "cell_type": "code",
   "execution_count": 8,
   "id": "5827e246-5723-4c45-859f-f27399bff86b",
   "metadata": {},
   "outputs": [
    {
     "data": {
      "text/plain": [
       "'Q2. Given are some following variables containing data:\\n(i) var1 = ‘ ‘\\n(ii) var2 = ‘[ DS , ML , Python]’\\n(iii) var3 = [ ‘DS’ , ’ML’ , ‘Python’ ]\\n(iv) var4 = 1\\nWhat will be the data type of the above given variable.'"
      ]
     },
     "execution_count": 8,
     "metadata": {},
     "output_type": "execute_result"
    }
   ],
   "source": [
    "'''Q2. Given are some following variables containing data:\n",
    "(i) var1 = ‘ ‘\n",
    "(ii) var2 = ‘[ DS , ML , Python]’\n",
    "(iii) var3 = [ ‘DS’ , ’ML’ , ‘Python’ ]\n",
    "(iv) var4 = 1\n",
    "What will be the data type of the above given variable.'''\n"
   ]
  },
  {
   "cell_type": "code",
   "execution_count": 9,
   "id": "7716137e-026c-4c30-9f86-7e882123dccd",
   "metadata": {},
   "outputs": [],
   "source": [
    "var1 = ''# string type"
   ]
  },
  {
   "cell_type": "code",
   "execution_count": 10,
   "id": "ade44ffe-b7f9-4f36-83e4-016a7641a495",
   "metadata": {},
   "outputs": [
    {
     "data": {
      "text/plain": [
       "str"
      ]
     },
     "execution_count": 10,
     "metadata": {},
     "output_type": "execute_result"
    }
   ],
   "source": [
    "type(var1)"
   ]
  },
  {
   "cell_type": "code",
   "execution_count": 14,
   "id": "922fe93e-83a2-4804-9cff-4e3c12de1048",
   "metadata": {},
   "outputs": [],
   "source": [
    "var2 = '[ DS , ML , Python]' #string type"
   ]
  },
  {
   "cell_type": "code",
   "execution_count": 15,
   "id": "756595fa-91fc-44ef-bc7c-a56e5faef848",
   "metadata": {},
   "outputs": [
    {
     "data": {
      "text/plain": [
       "str"
      ]
     },
     "execution_count": 15,
     "metadata": {},
     "output_type": "execute_result"
    }
   ],
   "source": [
    "type(var2)"
   ]
  },
  {
   "cell_type": "code",
   "execution_count": 17,
   "id": "6de71281-45ed-4268-80b8-60e14b216720",
   "metadata": {},
   "outputs": [],
   "source": [
    "var3 = [ 'DS' , 'ML' , 'Python' ] #list type"
   ]
  },
  {
   "cell_type": "code",
   "execution_count": 18,
   "id": "91ea5e7d-03d3-4105-8ea6-71ed975b7a22",
   "metadata": {},
   "outputs": [
    {
     "data": {
      "text/plain": [
       "list"
      ]
     },
     "execution_count": 18,
     "metadata": {},
     "output_type": "execute_result"
    }
   ],
   "source": [
    "type(var3)"
   ]
  },
  {
   "cell_type": "code",
   "execution_count": 21,
   "id": "2e1f359f-6995-42de-a8c5-1f13076937e7",
   "metadata": {},
   "outputs": [],
   "source": [
    "var4 = 1 #int type"
   ]
  },
  {
   "cell_type": "code",
   "execution_count": 22,
   "id": "e6aea58a-597d-4ff7-a86a-a0149e326026",
   "metadata": {},
   "outputs": [
    {
     "data": {
      "text/plain": [
       "int"
      ]
     },
     "execution_count": 22,
     "metadata": {},
     "output_type": "execute_result"
    }
   ],
   "source": [
    "type(var4)"
   ]
  },
  {
   "cell_type": "code",
   "execution_count": 24,
   "id": "26d7170f-b598-4c6e-89a5-84f82fafbbd2",
   "metadata": {},
   "outputs": [
    {
     "data": {
      "text/plain": [
       "'Q3. Explain the use of the following operators using an example:\\n(i) /\\n(ii) %\\n(iii) //\\n(iv) **'"
      ]
     },
     "execution_count": 24,
     "metadata": {},
     "output_type": "execute_result"
    }
   ],
   "source": [
    "  '''Q3. Explain the use of the following operators using an example:\n",
    "  (i) /\n",
    "  (ii) %\n",
    "  (iii) //\n",
    "  (iv) **'''"
   ]
  },
  {
   "cell_type": "code",
   "execution_count": 26,
   "id": "2d4c816b-c5a9-4063-a0a0-8f6c243bc997",
   "metadata": {},
   "outputs": [
    {
     "name": "stdout",
     "output_type": "stream",
     "text": [
      "6 divided by 3 is :  2.0\n"
     ]
    }
   ],
   "source": [
    "print(\"6 divided by 3 is : \",6/3)"
   ]
  },
  {
   "cell_type": "code",
   "execution_count": 27,
   "id": "4a714c1b-8101-4f31-8ec6-113244384260",
   "metadata": {},
   "outputs": [
    {
     "name": "stdout",
     "output_type": "stream",
     "text": [
      "When we divide 6 by 4 the remainder is:  2\n"
     ]
    }
   ],
   "source": [
    "print(\"When we divide 6 by 4 the remainder is: \",6%4)"
   ]
  },
  {
   "cell_type": "code",
   "execution_count": 28,
   "id": "fa6a325c-d045-4c75-be57-4311f4e4a363",
   "metadata": {},
   "outputs": [
    {
     "name": "stdout",
     "output_type": "stream",
     "text": [
      "When we divide 10 by 3 the floor division value is:  3\n"
     ]
    }
   ],
   "source": [
    "print (\"When we divide 10 by 3 the floor division value is: \",10//3)"
   ]
  },
  {
   "cell_type": "code",
   "execution_count": 29,
   "id": "473fd401-1458-476e-9aba-d0dea475b9c3",
   "metadata": {},
   "outputs": [
    {
     "name": "stdout",
     "output_type": "stream",
     "text": [
      "When we raise the power of 2 by 3 the result is:  8\n"
     ]
    }
   ],
   "source": [
    "print(\"When we raise the power of 2 by 3 the result is: \",2**3)"
   ]
  },
  {
   "cell_type": "code",
   "execution_count": 30,
   "id": "b007135f-894c-4d29-bd24-7e0405516744",
   "metadata": {},
   "outputs": [
    {
     "data": {
      "text/plain": [
       "'Q4. Create a list of length 10 of your choice containing multiple types of data. Using for loop print the\\nelement and its data type.'"
      ]
     },
     "execution_count": 30,
     "metadata": {},
     "output_type": "execute_result"
    }
   ],
   "source": [
    "'''Q4. Create a list of length 10 of your choice containing multiple types of data. Using for loop print the\n",
    "element and its data type.'''"
   ]
  },
  {
   "cell_type": "code",
   "execution_count": 31,
   "id": "e0046839-fb6d-46e4-b275-698977274ca3",
   "metadata": {},
   "outputs": [],
   "source": [
    " list10 = ['saugat', 2,'computer', 4.9, 55, 'pwskill', 7, 8, 9, 10] "
   ]
  },
  {
   "cell_type": "code",
   "execution_count": 32,
   "id": "319763c8-4f42-4dd1-86fa-0d28d2900f78",
   "metadata": {},
   "outputs": [
    {
     "name": "stdout",
     "output_type": "stream",
     "text": [
      "saugat <class 'str'>\n",
      "2 <class 'int'>\n",
      "computer <class 'str'>\n",
      "4.9 <class 'float'>\n",
      "55 <class 'int'>\n",
      "pwskill <class 'str'>\n",
      "7 <class 'int'>\n",
      "8 <class 'int'>\n",
      "9 <class 'int'>\n",
      "10 <class 'int'>\n"
     ]
    }
   ],
   "source": [
    "for i in list10:\n",
    "    print(i,type(i))"
   ]
  },
  {
   "cell_type": "code",
   "execution_count": 33,
   "id": "be18671f-e1f7-45ea-bd2e-9035ab0881c5",
   "metadata": {},
   "outputs": [
    {
     "data": {
      "text/plain": [
       "'Q5. Using a while loop, verify if the number A is purely divisible by number B and if so then how many\\ntimes it can be divisible.'"
      ]
     },
     "execution_count": 33,
     "metadata": {},
     "output_type": "execute_result"
    }
   ],
   "source": [
    "'''Q5. Using a while loop, verify if the number A is purely divisible by number B and if so then how many\n",
    "times it can be divisible.'''"
   ]
  },
  {
   "cell_type": "code",
   "execution_count": 1,
   "id": "d0cd9aa4-f836-441f-8eb3-8438b81eae5b",
   "metadata": {},
   "outputs": [
    {
     "name": "stdin",
     "output_type": "stream",
     "text": [
      "Enter first number A 9\n",
      "Enter second numkber B 3\n"
     ]
    },
    {
     "name": "stdout",
     "output_type": "stream",
     "text": [
      "Number A is divisible by number B for 2 times\n"
     ]
    }
   ],
   "source": [
    "A = int(input(\"Enter first number A\"))\n",
    "B = int(input(\"Enter second numkber B\"))\n",
    "count = 0\n",
    "while(A%B==0):\n",
    "    count += 1\n",
    "    A //= B\n",
    "print(\"Number A is divisible by number B for\",count, \"times\")\n"
   ]
  },
  {
   "cell_type": "code",
   "execution_count": 2,
   "id": "005567e1-6f27-4785-ac7f-155f0cb0a21d",
   "metadata": {},
   "outputs": [
    {
     "data": {
      "text/plain": [
       "'Q6. Create a list containing 25 int type data. Using for loop and if-else condition print if the element is\\ndivisible by 3 or not.'"
      ]
     },
     "execution_count": 2,
     "metadata": {},
     "output_type": "execute_result"
    }
   ],
   "source": [
    "'''Q6. Create a list containing 25 int type data. Using for loop and if-else condition print if the element is\n",
    "divisible by 3 or not.'''"
   ]
  },
  {
   "cell_type": "code",
   "execution_count": 10,
   "id": "c004f4b6-bc5e-40e6-8978-9fc8977f0fbd",
   "metadata": {},
   "outputs": [
    {
     "name": "stdout",
     "output_type": "stream",
     "text": [
      "3\n",
      "6\n",
      "9\n",
      "12\n",
      "15\n",
      "18\n",
      "21\n",
      "24\n"
     ]
    }
   ],
   "source": [
    "list25 = list(range(1, 26))\n",
    "for i in list25:\n",
    "    if i % 3 == 0:\n",
    "        print(i)"
   ]
  },
  {
   "cell_type": "code",
   "execution_count": 11,
   "id": "f5ae0ebc-5b34-4e61-afd8-d6c8180c2ad2",
   "metadata": {},
   "outputs": [
    {
     "data": {
      "text/plain": [
       "'Q7. What do you understand about mutable and immutable data types? Give examples for both showing\\nthis property.'"
      ]
     },
     "execution_count": 11,
     "metadata": {},
     "output_type": "execute_result"
    }
   ],
   "source": [
    "'''Q7. What do you understand about mutable and immutable data types? Give examples for both showing\n",
    "this property.'''\n",
    "#Mutable data type- the data type is a type of object whose state can be changed after we creat it. eg list,sets,dictionaries\n",
    "#Immutable data type- the data type is a typoe of object whose state can not be changed after we creat it.\n"
   ]
  },
  {
   "cell_type": "code",
   "execution_count": null,
   "id": "b4cbb8a2-4875-4ed7-be30-9e21f51576fb",
   "metadata": {},
   "outputs": [],
   "source": []
  }
 ],
 "metadata": {
  "kernelspec": {
   "display_name": "Python 3 (ipykernel)",
   "language": "python",
   "name": "python3"
  },
  "language_info": {
   "codemirror_mode": {
    "name": "ipython",
    "version": 3
   },
   "file_extension": ".py",
   "mimetype": "text/x-python",
   "name": "python",
   "nbconvert_exporter": "python",
   "pygments_lexer": "ipython3",
   "version": "3.10.8"
  }
 },
 "nbformat": 4,
 "nbformat_minor": 5
}
